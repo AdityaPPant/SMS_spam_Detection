{
 "cells": [
  {
   "cell_type": "code",
   "execution_count": 2,
   "metadata": {},
   "outputs": [],
   "source": [
    "import pandas as pd\n",
    "import numpy as np\n",
    "from sklearn.feature_extraction.text import TfidfVectorizer\n",
    "from sklearn.model_selection import train_test_split\n",
    "from sklearn.naive_bayes import MultinomialNB\n",
    "from sklearn.linear_model import LogisticRegression\n",
    "from sklearn.svm import SVC\n",
    "from sklearn.metrics import accuracy_score, classification_report\n",
    "from sklearn.pipeline import make_pipeline\n",
    "import nltk"
   ]
  },
  {
   "cell_type": "code",
   "execution_count": 3,
   "metadata": {},
   "outputs": [],
   "source": [
    "# Load the dataset\n",
    "data = pd.read_csv('spam.csv', encoding='latin-1')\n",
    "data = data.rename(columns={'v1': 'label', 'v2': 'message'})\n",
    "data['label'] = data['label'].map({'ham': 0, 'spam': 1})\n",
    "X = data['message']\n",
    "y = data['label']\n",
    "X_train, X_test, y_train, y_test = train_test_split(X, y, test_size=0.2, random_state=42)\n"
   ]
  },
  {
   "cell_type": "code",
   "execution_count": 4,
   "metadata": {},
   "outputs": [],
   "source": [
    "# Naive Bayes\n",
    "nb_pipeline = make_pipeline(TfidfVectorizer(), MultinomialNB())\n",
    "nb_pipeline.fit(X_train, y_train)\n",
    "nb_predictions = nb_pipeline.predict(X_test)\n",
    "# Logistic Regression\n",
    "lr_pipeline = make_pipeline(TfidfVectorizer(), LogisticRegression(max_iter=1000))\n",
    "lr_pipeline.fit(X_train, y_train)\n",
    "lr_predictions = lr_pipeline.predict(X_test)\n",
    "# Support Vector Machines\n",
    "svm_pipeline = make_pipeline(TfidfVectorizer(), SVC())\n",
    "svm_pipeline.fit(X_train, y_train)\n",
    "svm_predictions = svm_pipeline.predict(X_test)\n"
   ]
  },
  {
   "cell_type": "code",
   "execution_count": 5,
   "metadata": {},
   "outputs": [
    {
     "name": "stdout",
     "output_type": "stream",
     "text": [
      "Naive Bayes Classifier\n",
      "Accuracy: 0.9623318385650225\n",
      "              precision    recall  f1-score   support\n",
      "\n",
      "           0       0.96      1.00      0.98       965\n",
      "           1       1.00      0.72      0.84       150\n",
      "\n",
      "    accuracy                           0.96      1115\n",
      "   macro avg       0.98      0.86      0.91      1115\n",
      "weighted avg       0.96      0.96      0.96      1115\n",
      "\n",
      "Logistic Regression Classifier\n",
      "Accuracy: 0.9659192825112107\n",
      "              precision    recall  f1-score   support\n",
      "\n",
      "           0       0.96      1.00      0.98       965\n",
      "           1       0.99      0.75      0.86       150\n",
      "\n",
      "    accuracy                           0.97      1115\n",
      "   macro avg       0.98      0.88      0.92      1115\n",
      "weighted avg       0.97      0.97      0.96      1115\n",
      "\n",
      "Support Vector Machines Classifier\n",
      "Accuracy: 0.9820627802690582\n",
      "              precision    recall  f1-score   support\n",
      "\n",
      "           0       0.98      1.00      0.99       965\n",
      "           1       1.00      0.87      0.93       150\n",
      "\n",
      "    accuracy                           0.98      1115\n",
      "   macro avg       0.99      0.93      0.96      1115\n",
      "weighted avg       0.98      0.98      0.98      1115\n",
      "\n"
     ]
    }
   ],
   "source": [
    "# Evaluate \n",
    "print(\"Naive Bayes Classifier\")\n",
    "print(\"Accuracy:\", accuracy_score(y_test, nb_predictions))\n",
    "print(classification_report(y_test, nb_predictions))\n",
    "print(\"Logistic Regression Classifier\")\n",
    "print(\"Accuracy:\", accuracy_score(y_test, lr_predictions))\n",
    "print(classification_report(y_test, lr_predictions))\n",
    "print(\"Support Vector Machines Classifier\")\n",
    "print(\"Accuracy:\", accuracy_score(y_test, svm_predictions))\n",
    "print(classification_report(y_test, svm_predictions))\n"
   ]
  },
  {
   "cell_type": "code",
   "execution_count": 6,
   "metadata": {},
   "outputs": [
    {
     "name": "stdout",
     "output_type": "stream",
     "text": [
      "Models pickled successfully.\n"
     ]
    }
   ],
   "source": [
    "import pickle\n",
    "with open('Naive Bayes.pkl', 'wb') as file:\n",
    "    pickle.dump(nb_pipeline, file)\n",
    "with open('Logistic Regression.pkl', 'wb') as file:\n",
    "    pickle.dump(lr_pipeline, file)\n",
    "with open('Support Vector Machines.pkl', 'wb') as file:\n",
    "    pickle.dump(svm_pipeline, file)\n",
    "print(\"Models pickled successfully.\")"
   ]
  }
 ],
 "metadata": {
  "kernelspec": {
   "display_name": "base",
   "language": "python",
   "name": "python3"
  },
  "language_info": {
   "codemirror_mode": {
    "name": "ipython",
    "version": 3
   },
   "file_extension": ".py",
   "mimetype": "text/x-python",
   "name": "python",
   "nbconvert_exporter": "python",
   "pygments_lexer": "ipython3",
   "version": "3.10.9"
  }
 },
 "nbformat": 4,
 "nbformat_minor": 2
}
